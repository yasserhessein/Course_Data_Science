{
 "cells": [
  {
   "cell_type": "code",
   "execution_count": 1,
   "metadata": {},
   "outputs": [],
   "source": [
    "import numpy as np "
   ]
  },
  {
   "cell_type": "code",
   "execution_count": 2,
   "metadata": {},
   "outputs": [],
   "source": [
    "employee_info = [(\"name\",\"S10\"),(\"salary\",\"f8\"),(\"age\",\"i8\")]"
   ]
  },
  {
   "cell_type": "code",
   "execution_count": 3,
   "metadata": {},
   "outputs": [
    {
     "name": "stdout",
     "output_type": "stream",
     "text": [
      "[('name', 'S10'), ('salary', 'f8'), ('age', 'i8')]\n"
     ]
    }
   ],
   "source": [
    "print (employee_info)"
   ]
  },
  {
   "cell_type": "code",
   "execution_count": 4,
   "metadata": {},
   "outputs": [],
   "source": [
    "employee_staff = np.zeros((3) , dtype = employee_info)"
   ]
  },
  {
   "cell_type": "code",
   "execution_count": 5,
   "metadata": {},
   "outputs": [
    {
     "data": {
      "text/plain": [
       "array([(b'', 0., 0), (b'', 0., 0), (b'', 0., 0)],\n",
       "      dtype=[('name', 'S10'), ('salary', '<f8'), ('age', '<i8')])"
      ]
     },
     "execution_count": 5,
     "metadata": {},
     "output_type": "execute_result"
    }
   ],
   "source": [
    "employee_staff"
   ]
  },
  {
   "cell_type": "code",
   "execution_count": 6,
   "metadata": {},
   "outputs": [],
   "source": [
    "employee_staff[0] = (\"Yasir\", 1200 , 35)"
   ]
  },
  {
   "cell_type": "code",
   "execution_count": 7,
   "metadata": {},
   "outputs": [],
   "source": [
    "employee_staff[1] = (\"Hussein\", 1350 , 69)"
   ]
  },
  {
   "cell_type": "code",
   "execution_count": 8,
   "metadata": {},
   "outputs": [
    {
     "data": {
      "text/plain": [
       "array([(b'Yasir', 1200., 35), (b'Hussein', 1350., 69), (b'',    0.,  0)],\n",
       "      dtype=[('name', 'S10'), ('salary', '<f8'), ('age', '<i8')])"
      ]
     },
     "execution_count": 8,
     "metadata": {},
     "output_type": "execute_result"
    }
   ],
   "source": [
    "employee_staff"
   ]
  },
  {
   "cell_type": "code",
   "execution_count": 9,
   "metadata": {},
   "outputs": [],
   "source": [
    "employee_staff[2] = (\"shakir\", 1400 , 56)"
   ]
  },
  {
   "cell_type": "code",
   "execution_count": 10,
   "metadata": {},
   "outputs": [
    {
     "name": "stdout",
     "output_type": "stream",
     "text": [
      "[(b'Yasir', 1200., 35) (b'Hussein', 1350., 69) (b'shakir', 1400., 56)]\n"
     ]
    }
   ],
   "source": [
    "print(employee_staff)"
   ]
  },
  {
   "cell_type": "code",
   "execution_count": 11,
   "metadata": {},
   "outputs": [
    {
     "data": {
      "text/plain": [
       "array([(b'Yasir', 1200., 35), (b'Hussein', 1350., 69),\n",
       "       (b'shakir', 1400., 56)],\n",
       "      dtype=[('name', 'S10'), ('salary', '<f8'), ('age', '<i8')])"
      ]
     },
     "execution_count": 11,
     "metadata": {},
     "output_type": "execute_result"
    }
   ],
   "source": [
    "employee_staff"
   ]
  },
  {
   "cell_type": "code",
   "execution_count": 12,
   "metadata": {},
   "outputs": [
    {
     "data": {
      "text/plain": [
       "array([(b'Yasir', 1200., 35), (b'Hussein', 1350., 69),\n",
       "       (b'shakir', 1400., 56)],\n",
       "      dtype=[('name', 'S10'), ('salary', '<f8'), ('age', '<i8')])"
      ]
     },
     "execution_count": 12,
     "metadata": {},
     "output_type": "execute_result"
    }
   ],
   "source": [
    "employee_staff[0:]"
   ]
  },
  {
   "cell_type": "code",
   "execution_count": 13,
   "metadata": {},
   "outputs": [
    {
     "data": {
      "text/plain": [
       "array([(b'Hussein', 1350., 69), (b'shakir', 1400., 56)],\n",
       "      dtype=[('name', 'S10'), ('salary', '<f8'), ('age', '<i8')])"
      ]
     },
     "execution_count": 13,
     "metadata": {},
     "output_type": "execute_result"
    }
   ],
   "source": [
    "employee_staff[1:]"
   ]
  },
  {
   "cell_type": "code",
   "execution_count": 14,
   "metadata": {},
   "outputs": [
    {
     "name": "stdout",
     "output_type": "stream",
     "text": [
      "[(b'Hussein', 1350., 69) (b'shakir', 1400., 56)]\n"
     ]
    }
   ],
   "source": [
    "print(employee_staff[1:])"
   ]
  },
  {
   "cell_type": "code",
   "execution_count": 15,
   "metadata": {},
   "outputs": [
    {
     "name": "stdout",
     "output_type": "stream",
     "text": [
      "[35 69 56]\n"
     ]
    }
   ],
   "source": [
    "print(employee_staff[\"age\"])"
   ]
  },
  {
   "cell_type": "code",
   "execution_count": 16,
   "metadata": {},
   "outputs": [
    {
     "name": "stdout",
     "output_type": "stream",
     "text": [
      "[1200. 1350. 1400.]\n"
     ]
    }
   ],
   "source": [
    "print(employee_staff[\"salary\"])"
   ]
  },
  {
   "cell_type": "code",
   "execution_count": 17,
   "metadata": {},
   "outputs": [
    {
     "name": "stdout",
     "output_type": "stream",
     "text": [
      "[b'Yasir' b'Hussein' b'shakir']\n"
     ]
    }
   ],
   "source": [
    "print(employee_staff[\"name\"])"
   ]
  },
  {
   "cell_type": "code",
   "execution_count": 18,
   "metadata": {},
   "outputs": [
    {
     "name": "stdout",
     "output_type": "stream",
     "text": [
      "[69 56]\n"
     ]
    }
   ],
   "source": [
    "print(employee_staff[1:][\"age\"])"
   ]
  },
  {
   "cell_type": "code",
   "execution_count": 19,
   "metadata": {},
   "outputs": [
    {
     "name": "stdout",
     "output_type": "stream",
     "text": [
      "[b'shakir']\n"
     ]
    }
   ],
   "source": [
    "print(employee_staff[2:][\"name\"])"
   ]
  },
  {
   "cell_type": "code",
   "execution_count": 24,
   "metadata": {},
   "outputs": [
    {
     "name": "stdout",
     "output_type": "stream",
     "text": [
      "[3200. 3350. 3400.]\n"
     ]
    }
   ],
   "source": [
    "print(employee_staff[\"salary\"]+ 2000)"
   ]
  },
  {
   "cell_type": "code",
   "execution_count": 25,
   "metadata": {},
   "outputs": [
    {
     "name": "stdout",
     "output_type": "stream",
     "text": [
      "[37 71 58]\n"
     ]
    }
   ],
   "source": [
    "print(employee_staff[\"age\"]+ 2)"
   ]
  },
  {
   "cell_type": "code",
   "execution_count": 31,
   "metadata": {},
   "outputs": [
    {
     "data": {
      "text/plain": [
       "array([(b'Yasir', 1200., 35), (b'Hussein', 1350., 69),\n",
       "       (b'shakir', 1400., 56)],\n",
       "      dtype=[('name', 'S10'), ('salary', '<f8'), ('age', '<i8')])"
      ]
     },
     "execution_count": 31,
     "metadata": {},
     "output_type": "execute_result"
    }
   ],
   "source": [
    "employee_staff"
   ]
  },
  {
   "cell_type": "code",
   "execution_count": 33,
   "metadata": {},
   "outputs": [],
   "source": [
    "all_employee = np.zeros((4,3,2), dtype=employee_info)"
   ]
  },
  {
   "cell_type": "code",
   "execution_count": 34,
   "metadata": {},
   "outputs": [
    {
     "data": {
      "text/plain": [
       "array([[[(b'', 0., 0), (b'', 0., 0)],\n",
       "        [(b'', 0., 0), (b'', 0., 0)],\n",
       "        [(b'', 0., 0), (b'', 0., 0)]],\n",
       "\n",
       "       [[(b'', 0., 0), (b'', 0., 0)],\n",
       "        [(b'', 0., 0), (b'', 0., 0)],\n",
       "        [(b'', 0., 0), (b'', 0., 0)]],\n",
       "\n",
       "       [[(b'', 0., 0), (b'', 0., 0)],\n",
       "        [(b'', 0., 0), (b'', 0., 0)],\n",
       "        [(b'', 0., 0), (b'', 0., 0)]],\n",
       "\n",
       "       [[(b'', 0., 0), (b'', 0., 0)],\n",
       "        [(b'', 0., 0), (b'', 0., 0)],\n",
       "        [(b'', 0., 0), (b'', 0., 0)]]],\n",
       "      dtype=[('name', 'S10'), ('salary', '<f8'), ('age', '<i8')])"
      ]
     },
     "execution_count": 34,
     "metadata": {},
     "output_type": "execute_result"
    }
   ],
   "source": [
    "all_employee"
   ]
  },
  {
   "cell_type": "code",
   "execution_count": 38,
   "metadata": {},
   "outputs": [
    {
     "data": {
      "text/plain": [
       "array([[[0, 0],\n",
       "        [0, 0],\n",
       "        [0, 0]],\n",
       "\n",
       "       [[0, 0],\n",
       "        [0, 0],\n",
       "        [0, 0]],\n",
       "\n",
       "       [[0, 0],\n",
       "        [0, 0],\n",
       "        [0, 0]],\n",
       "\n",
       "       [[0, 0],\n",
       "        [0, 0],\n",
       "        [0, 0]]], dtype=int64)"
      ]
     },
     "execution_count": 38,
     "metadata": {},
     "output_type": "execute_result"
    }
   ],
   "source": [
    "all_employee[\"age\"]"
   ]
  },
  {
   "cell_type": "code",
   "execution_count": 39,
   "metadata": {},
   "outputs": [
    {
     "data": {
      "text/plain": [
       "array([[[0., 0.],\n",
       "        [0., 0.],\n",
       "        [0., 0.]],\n",
       "\n",
       "       [[0., 0.],\n",
       "        [0., 0.],\n",
       "        [0., 0.]],\n",
       "\n",
       "       [[0., 0.],\n",
       "        [0., 0.],\n",
       "        [0., 0.]],\n",
       "\n",
       "       [[0., 0.],\n",
       "        [0., 0.],\n",
       "        [0., 0.]]])"
      ]
     },
     "execution_count": 39,
     "metadata": {},
     "output_type": "execute_result"
    }
   ],
   "source": [
    "all_employee[\"salary\"]"
   ]
  },
  {
   "cell_type": "code",
   "execution_count": 40,
   "metadata": {},
   "outputs": [
    {
     "data": {
      "text/plain": [
       "array([[[b'', b''],\n",
       "        [b'', b''],\n",
       "        [b'', b'']],\n",
       "\n",
       "       [[b'', b''],\n",
       "        [b'', b''],\n",
       "        [b'', b'']],\n",
       "\n",
       "       [[b'', b''],\n",
       "        [b'', b''],\n",
       "        [b'', b'']],\n",
       "\n",
       "       [[b'', b''],\n",
       "        [b'', b''],\n",
       "        [b'', b'']]], dtype='|S10')"
      ]
     },
     "execution_count": 40,
     "metadata": {},
     "output_type": "execute_result"
    }
   ],
   "source": [
    "all_employee[\"name\"]"
   ]
  },
  {
   "cell_type": "code",
   "execution_count": 43,
   "metadata": {},
   "outputs": [],
   "source": [
    "all_employee[0,0,1] = (\"yasir \" ,3000,35)"
   ]
  },
  {
   "cell_type": "code",
   "execution_count": 44,
   "metadata": {},
   "outputs": [
    {
     "data": {
      "text/plain": [
       "array([[[(b'',    0.,  0), (b'yasir ', 3000., 35)],\n",
       "        [(b'',    0.,  0), (b'',    0.,  0)],\n",
       "        [(b'',    0.,  0), (b'',    0.,  0)]],\n",
       "\n",
       "       [[(b'',    0.,  0), (b'',    0.,  0)],\n",
       "        [(b'',    0.,  0), (b'',    0.,  0)],\n",
       "        [(b'',    0.,  0), (b'',    0.,  0)]],\n",
       "\n",
       "       [[(b'',    0.,  0), (b'',    0.,  0)],\n",
       "        [(b'',    0.,  0), (b'',    0.,  0)],\n",
       "        [(b'',    0.,  0), (b'',    0.,  0)]],\n",
       "\n",
       "       [[(b'',    0.,  0), (b'',    0.,  0)],\n",
       "        [(b'',    0.,  0), (b'',    0.,  0)],\n",
       "        [(b'',    0.,  0), (b'',    0.,  0)]]],\n",
       "      dtype=[('name', 'S10'), ('salary', '<f8'), ('age', '<i8')])"
      ]
     },
     "execution_count": 44,
     "metadata": {},
     "output_type": "execute_result"
    }
   ],
   "source": [
    "all_employee"
   ]
  },
  {
   "cell_type": "code",
   "execution_count": 45,
   "metadata": {},
   "outputs": [],
   "source": [
    "all_employee[1,2,1] = (\"Huaasein \" ,400,30)"
   ]
  },
  {
   "cell_type": "code",
   "execution_count": 46,
   "metadata": {},
   "outputs": [
    {
     "data": {
      "text/plain": [
       "array([[[(b'',    0.,  0), (b'yasir ', 3000., 35)],\n",
       "        [(b'',    0.,  0), (b'',    0.,  0)],\n",
       "        [(b'',    0.,  0), (b'',    0.,  0)]],\n",
       "\n",
       "       [[(b'',    0.,  0), (b'',    0.,  0)],\n",
       "        [(b'',    0.,  0), (b'',    0.,  0)],\n",
       "        [(b'',    0.,  0), (b'Huaasein ',  400., 30)]],\n",
       "\n",
       "       [[(b'',    0.,  0), (b'',    0.,  0)],\n",
       "        [(b'',    0.,  0), (b'',    0.,  0)],\n",
       "        [(b'',    0.,  0), (b'',    0.,  0)]],\n",
       "\n",
       "       [[(b'',    0.,  0), (b'',    0.,  0)],\n",
       "        [(b'',    0.,  0), (b'',    0.,  0)],\n",
       "        [(b'',    0.,  0), (b'',    0.,  0)]]],\n",
       "      dtype=[('name', 'S10'), ('salary', '<f8'), ('age', '<i8')])"
      ]
     },
     "execution_count": 46,
     "metadata": {},
     "output_type": "execute_result"
    }
   ],
   "source": [
    "all_employee"
   ]
  },
  {
   "cell_type": "code",
   "execution_count": 47,
   "metadata": {},
   "outputs": [],
   "source": [
    "all_employee[2,2,0] = (\"ammar \" ,700,18)"
   ]
  },
  {
   "cell_type": "code",
   "execution_count": 48,
   "metadata": {},
   "outputs": [
    {
     "data": {
      "text/plain": [
       "array([[[(b'',    0.,  0), (b'yasir ', 3000., 35)],\n",
       "        [(b'',    0.,  0), (b'',    0.,  0)],\n",
       "        [(b'',    0.,  0), (b'',    0.,  0)]],\n",
       "\n",
       "       [[(b'',    0.,  0), (b'',    0.,  0)],\n",
       "        [(b'',    0.,  0), (b'',    0.,  0)],\n",
       "        [(b'',    0.,  0), (b'Huaasein ',  400., 30)]],\n",
       "\n",
       "       [[(b'',    0.,  0), (b'',    0.,  0)],\n",
       "        [(b'',    0.,  0), (b'',    0.,  0)],\n",
       "        [(b'ammar ',  700., 18), (b'',    0.,  0)]],\n",
       "\n",
       "       [[(b'',    0.,  0), (b'',    0.,  0)],\n",
       "        [(b'',    0.,  0), (b'',    0.,  0)],\n",
       "        [(b'',    0.,  0), (b'',    0.,  0)]]],\n",
       "      dtype=[('name', 'S10'), ('salary', '<f8'), ('age', '<i8')])"
      ]
     },
     "execution_count": 48,
     "metadata": {},
     "output_type": "execute_result"
    }
   ],
   "source": [
    "all_employee"
   ]
  },
  {
   "cell_type": "code",
   "execution_count": 49,
   "metadata": {},
   "outputs": [],
   "source": [
    "all_employee[2,2,1] = (\"ali \" ,1200,45)"
   ]
  },
  {
   "cell_type": "code",
   "execution_count": 50,
   "metadata": {},
   "outputs": [
    {
     "data": {
      "text/plain": [
       "array([[[(b'',    0.,  0), (b'yasir ', 3000., 35)],\n",
       "        [(b'',    0.,  0), (b'',    0.,  0)],\n",
       "        [(b'',    0.,  0), (b'',    0.,  0)]],\n",
       "\n",
       "       [[(b'',    0.,  0), (b'',    0.,  0)],\n",
       "        [(b'',    0.,  0), (b'',    0.,  0)],\n",
       "        [(b'',    0.,  0), (b'Huaasein ',  400., 30)]],\n",
       "\n",
       "       [[(b'',    0.,  0), (b'',    0.,  0)],\n",
       "        [(b'',    0.,  0), (b'',    0.,  0)],\n",
       "        [(b'ammar ',  700., 18), (b'ali ', 1200., 45)]],\n",
       "\n",
       "       [[(b'',    0.,  0), (b'',    0.,  0)],\n",
       "        [(b'',    0.,  0), (b'',    0.,  0)],\n",
       "        [(b'',    0.,  0), (b'',    0.,  0)]]],\n",
       "      dtype=[('name', 'S10'), ('salary', '<f8'), ('age', '<i8')])"
      ]
     },
     "execution_count": 50,
     "metadata": {},
     "output_type": "execute_result"
    }
   ],
   "source": [
    "all_employee"
   ]
  },
  {
   "cell_type": "code",
   "execution_count": 51,
   "metadata": {},
   "outputs": [
    {
     "data": {
      "text/plain": [
       "array([[[b'', b'yasir '],\n",
       "        [b'', b''],\n",
       "        [b'', b'']],\n",
       "\n",
       "       [[b'', b''],\n",
       "        [b'', b''],\n",
       "        [b'', b'Huaasein ']],\n",
       "\n",
       "       [[b'', b''],\n",
       "        [b'', b''],\n",
       "        [b'ammar ', b'ali ']],\n",
       "\n",
       "       [[b'', b''],\n",
       "        [b'', b''],\n",
       "        [b'', b'']]], dtype='|S10')"
      ]
     },
     "execution_count": 51,
     "metadata": {},
     "output_type": "execute_result"
    }
   ],
   "source": [
    "all_employee['name']"
   ]
  },
  {
   "cell_type": "code",
   "execution_count": 52,
   "metadata": {},
   "outputs": [
    {
     "data": {
      "text/plain": [
       "array([[[   0., 3000.],\n",
       "        [   0.,    0.],\n",
       "        [   0.,    0.]],\n",
       "\n",
       "       [[   0.,    0.],\n",
       "        [   0.,    0.],\n",
       "        [   0.,  400.]],\n",
       "\n",
       "       [[   0.,    0.],\n",
       "        [   0.,    0.],\n",
       "        [ 700., 1200.]],\n",
       "\n",
       "       [[   0.,    0.],\n",
       "        [   0.,    0.],\n",
       "        [   0.,    0.]]])"
      ]
     },
     "execution_count": 52,
     "metadata": {},
     "output_type": "execute_result"
    }
   ],
   "source": [
    "all_employee['salary']"
   ]
  },
  {
   "cell_type": "code",
   "execution_count": 53,
   "metadata": {},
   "outputs": [
    {
     "data": {
      "text/plain": [
       "array([[[ 0, 35],\n",
       "        [ 0,  0],\n",
       "        [ 0,  0]],\n",
       "\n",
       "       [[ 0,  0],\n",
       "        [ 0,  0],\n",
       "        [ 0, 30]],\n",
       "\n",
       "       [[ 0,  0],\n",
       "        [ 0,  0],\n",
       "        [18, 45]],\n",
       "\n",
       "       [[ 0,  0],\n",
       "        [ 0,  0],\n",
       "        [ 0,  0]]], dtype=int64)"
      ]
     },
     "execution_count": 53,
     "metadata": {},
     "output_type": "execute_result"
    }
   ],
   "source": [
    "all_employee['age']"
   ]
  },
  {
   "cell_type": "code",
   "execution_count": 55,
   "metadata": {},
   "outputs": [
    {
     "data": {
      "text/plain": [
       "array([[[( 0, b''), (35, b'yasir ')],\n",
       "        [( 0, b''), ( 0, b'')],\n",
       "        [( 0, b''), ( 0, b'')]],\n",
       "\n",
       "       [[( 0, b''), ( 0, b'')],\n",
       "        [( 0, b''), ( 0, b'')],\n",
       "        [( 0, b''), (30, b'Huaasein ')]],\n",
       "\n",
       "       [[( 0, b''), ( 0, b'')],\n",
       "        [( 0, b''), ( 0, b'')],\n",
       "        [(18, b'ammar '), (45, b'ali ')]],\n",
       "\n",
       "       [[( 0, b''), ( 0, b'')],\n",
       "        [( 0, b''), ( 0, b'')],\n",
       "        [( 0, b''), ( 0, b'')]]],\n",
       "      dtype={'names':['age','name'], 'formats':['<i8','S10'], 'offsets':[18,0], 'itemsize':26})"
      ]
     },
     "execution_count": 55,
     "metadata": {},
     "output_type": "execute_result"
    }
   ],
   "source": [
    "all_employee[['age','name']]"
   ]
  },
  {
   "cell_type": "markdown",
   "metadata": {},
   "source": [
    "# Good luck"
   ]
  }
 ],
 "metadata": {
  "kernelspec": {
   "display_name": "Python 3",
   "language": "python",
   "name": "python3"
  },
  "language_info": {
   "codemirror_mode": {
    "name": "ipython",
    "version": 3
   },
   "file_extension": ".py",
   "mimetype": "text/x-python",
   "name": "python",
   "nbconvert_exporter": "python",
   "pygments_lexer": "ipython3",
   "version": "3.6.8"
  }
 },
 "nbformat": 4,
 "nbformat_minor": 4
}
